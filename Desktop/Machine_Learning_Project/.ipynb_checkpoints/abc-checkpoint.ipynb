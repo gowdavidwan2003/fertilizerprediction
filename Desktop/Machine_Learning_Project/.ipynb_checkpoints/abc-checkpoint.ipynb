{
 "cells": [
  {
   "cell_type": "code",
   "execution_count": 1,
   "id": "d3c77fe6",
   "metadata": {},
   "outputs": [],
   "source": [
    "import os \n",
    "import pandas as pd \n",
    "import numpy as np \n",
    "\n",
    "pd.options.display.max_columns = 100\n",
    "pd.options.display.max_rows = 100\n",
    "\n",
    "import warnings \n",
    "warnings.simplefilter(action='ignore', category=FutureWarning)\n",
    "warnings.simplefilter(action='ignore', category=UserWarning)"
   ]
  },
  {
   "cell_type": "code",
   "execution_count": 2,
   "id": "b4be506c",
   "metadata": {},
   "outputs": [],
   "source": [
    "\n",
    "df = pd.read_csv('Fertilizer_Prediction.csv')"
   ]
  },
  {
   "cell_type": "code",
   "execution_count": 3,
   "id": "5fbb0877",
   "metadata": {},
   "outputs": [
    {
     "data": {
      "text/html": [
       "<div>\n",
       "<style scoped>\n",
       "    .dataframe tbody tr th:only-of-type {\n",
       "        vertical-align: middle;\n",
       "    }\n",
       "\n",
       "    .dataframe tbody tr th {\n",
       "        vertical-align: top;\n",
       "    }\n",
       "\n",
       "    .dataframe thead th {\n",
       "        text-align: right;\n",
       "    }\n",
       "</style>\n",
       "<table border=\"1\" class=\"dataframe\">\n",
       "  <thead>\n",
       "    <tr style=\"text-align: right;\">\n",
       "      <th></th>\n",
       "      <th>Temperature</th>\n",
       "      <th>Humidity</th>\n",
       "      <th>Rainfall</th>\n",
       "      <th>pH</th>\n",
       "      <th>N</th>\n",
       "      <th>P</th>\n",
       "      <th>K</th>\n",
       "      <th>Soil</th>\n",
       "      <th>Crop</th>\n",
       "      <th>Fertilizer</th>\n",
       "    </tr>\n",
       "  </thead>\n",
       "  <tbody>\n",
       "    <tr>\n",
       "      <th>0</th>\n",
       "      <td>24.87</td>\n",
       "      <td>82.84</td>\n",
       "      <td>295.61</td>\n",
       "      <td>6.59</td>\n",
       "      <td>4.0</td>\n",
       "      <td>2.0</td>\n",
       "      <td>2.5</td>\n",
       "      <td>Clayey</td>\n",
       "      <td>rice</td>\n",
       "      <td>DAP and MOP</td>\n",
       "    </tr>\n",
       "    <tr>\n",
       "      <th>1</th>\n",
       "      <td>28.69</td>\n",
       "      <td>96.65</td>\n",
       "      <td>178.96</td>\n",
       "      <td>6.08</td>\n",
       "      <td>4.0</td>\n",
       "      <td>4.0</td>\n",
       "      <td>4.0</td>\n",
       "      <td>laterite</td>\n",
       "      <td>Coconut</td>\n",
       "      <td>Good NPK</td>\n",
       "    </tr>\n",
       "    <tr>\n",
       "      <th>2</th>\n",
       "      <td>20.27</td>\n",
       "      <td>81.64</td>\n",
       "      <td>270.44</td>\n",
       "      <td>5.01</td>\n",
       "      <td>4.0</td>\n",
       "      <td>4.0</td>\n",
       "      <td>2.0</td>\n",
       "      <td>silty clay</td>\n",
       "      <td>rice</td>\n",
       "      <td>MOP</td>\n",
       "    </tr>\n",
       "    <tr>\n",
       "      <th>3</th>\n",
       "      <td>25.07</td>\n",
       "      <td>95.02</td>\n",
       "      <td>192.90</td>\n",
       "      <td>5.55</td>\n",
       "      <td>2.0</td>\n",
       "      <td>2.1</td>\n",
       "      <td>3.5</td>\n",
       "      <td>sandy</td>\n",
       "      <td>Coconut</td>\n",
       "      <td>Urea and DAP</td>\n",
       "    </tr>\n",
       "    <tr>\n",
       "      <th>4</th>\n",
       "      <td>25.04</td>\n",
       "      <td>95.90</td>\n",
       "      <td>174.80</td>\n",
       "      <td>6.18</td>\n",
       "      <td>2.0</td>\n",
       "      <td>3.9</td>\n",
       "      <td>2.1</td>\n",
       "      <td>coastal</td>\n",
       "      <td>Coconut</td>\n",
       "      <td>Urea and MOP</td>\n",
       "    </tr>\n",
       "    <tr>\n",
       "      <th>5</th>\n",
       "      <td>20.82</td>\n",
       "      <td>84.13</td>\n",
       "      <td>230.22</td>\n",
       "      <td>6.46</td>\n",
       "      <td>2.5</td>\n",
       "      <td>4.0</td>\n",
       "      <td>3.0</td>\n",
       "      <td>clay loam</td>\n",
       "      <td>rice</td>\n",
       "      <td>Urea</td>\n",
       "    </tr>\n",
       "    <tr>\n",
       "      <th>6</th>\n",
       "      <td>25.95</td>\n",
       "      <td>93.41</td>\n",
       "      <td>172.05</td>\n",
       "      <td>5.84</td>\n",
       "      <td>2.5</td>\n",
       "      <td>4.0</td>\n",
       "      <td>2.0</td>\n",
       "      <td>alluvial</td>\n",
       "      <td>Coconut</td>\n",
       "      <td>Urea and MOP</td>\n",
       "    </tr>\n",
       "    <tr>\n",
       "      <th>7</th>\n",
       "      <td>26.49</td>\n",
       "      <td>80.16</td>\n",
       "      <td>242.86</td>\n",
       "      <td>6.98</td>\n",
       "      <td>4.2</td>\n",
       "      <td>2.3</td>\n",
       "      <td>3.2</td>\n",
       "      <td>Clayey</td>\n",
       "      <td>rice</td>\n",
       "      <td>DAP</td>\n",
       "    </tr>\n",
       "    <tr>\n",
       "      <th>8</th>\n",
       "      <td>25.01</td>\n",
       "      <td>95.59</td>\n",
       "      <td>165.81</td>\n",
       "      <td>6.00</td>\n",
       "      <td>2.0</td>\n",
       "      <td>3.9</td>\n",
       "      <td>2.1</td>\n",
       "      <td>coastal</td>\n",
       "      <td>Coconut</td>\n",
       "      <td>Urea and MOP</td>\n",
       "    </tr>\n",
       "    <tr>\n",
       "      <th>9</th>\n",
       "      <td>21.87</td>\n",
       "      <td>80.19</td>\n",
       "      <td>224.56</td>\n",
       "      <td>5.95</td>\n",
       "      <td>2.9</td>\n",
       "      <td>3.5</td>\n",
       "      <td>3.9</td>\n",
       "      <td>silty clay</td>\n",
       "      <td>rice</td>\n",
       "      <td>Urea</td>\n",
       "    </tr>\n",
       "  </tbody>\n",
       "</table>\n",
       "</div>"
      ],
      "text/plain": [
       "   Temperature  Humidity  Rainfall    pH    N    P    K        Soil     Crop  \\\n",
       "0        24.87     82.84    295.61  6.59  4.0  2.0  2.5      Clayey     rice   \n",
       "1        28.69     96.65    178.96  6.08  4.0  4.0  4.0    laterite  Coconut   \n",
       "2        20.27     81.64    270.44  5.01  4.0  4.0  2.0  silty clay     rice   \n",
       "3        25.07     95.02    192.90  5.55  2.0  2.1  3.5       sandy  Coconut   \n",
       "4        25.04     95.90    174.80  6.18  2.0  3.9  2.1     coastal  Coconut   \n",
       "5        20.82     84.13    230.22  6.46  2.5  4.0  3.0   clay loam     rice   \n",
       "6        25.95     93.41    172.05  5.84  2.5  4.0  2.0    alluvial  Coconut   \n",
       "7        26.49     80.16    242.86  6.98  4.2  2.3  3.2      Clayey     rice   \n",
       "8        25.01     95.59    165.81  6.00  2.0  3.9  2.1     coastal  Coconut   \n",
       "9        21.87     80.19    224.56  5.95  2.9  3.5  3.9  silty clay     rice   \n",
       "\n",
       "     Fertilizer  \n",
       "0   DAP and MOP  \n",
       "1      Good NPK  \n",
       "2           MOP  \n",
       "3  Urea and DAP  \n",
       "4  Urea and MOP  \n",
       "5         Urea   \n",
       "6  Urea and MOP  \n",
       "7           DAP  \n",
       "8  Urea and MOP  \n",
       "9         Urea   "
      ]
     },
     "metadata": {},
     "output_type": "display_data"
    }
   ],
   "source": [
    "display(df.head(10))"
   ]
  },
  {
   "cell_type": "code",
   "execution_count": 4,
   "id": "99e941b1",
   "metadata": {},
   "outputs": [
    {
     "data": {
      "text/plain": [
       "Index(['Temperature', 'Humidity', 'Rainfall', 'pH', 'N', 'P', 'K', 'Soil',\n",
       "       'Crop', 'Fertilizer'],\n",
       "      dtype='object')"
      ]
     },
     "execution_count": 4,
     "metadata": {},
     "output_type": "execute_result"
    }
   ],
   "source": [
    "df.columns"
   ]
  },
  {
   "cell_type": "code",
   "execution_count": 5,
   "id": "5d9c8859",
   "metadata": {},
   "outputs": [
    {
     "name": "stdout",
     "output_type": "stream",
     "text": [
      "(200, 10)\n",
      "<class 'pandas.core.frame.DataFrame'>\n",
      "RangeIndex: 200 entries, 0 to 199\n",
      "Data columns (total 10 columns):\n",
      " #   Column       Non-Null Count  Dtype  \n",
      "---  ------       --------------  -----  \n",
      " 0   Temperature  200 non-null    float64\n",
      " 1   Humidity     200 non-null    float64\n",
      " 2   Rainfall     200 non-null    float64\n",
      " 3   pH           200 non-null    float64\n",
      " 4   N            200 non-null    float64\n",
      " 5   P            200 non-null    float64\n",
      " 6   K            200 non-null    float64\n",
      " 7   Soil         200 non-null    object \n",
      " 8   Crop         200 non-null    object \n",
      " 9   Fertilizer   200 non-null    object \n",
      "dtypes: float64(7), object(3)\n",
      "memory usage: 15.8+ KB\n"
     ]
    },
    {
     "data": {
      "text/plain": [
       "None"
      ]
     },
     "metadata": {},
     "output_type": "display_data"
    }
   ],
   "source": [
    "\n",
    "print(df.shape)\n",
    "\n",
    "display(df.info())"
   ]
  },
  {
   "cell_type": "code",
   "execution_count": 6,
   "id": "28543072",
   "metadata": {},
   "outputs": [
    {
     "data": {
      "text/plain": [
       "Temperature    0\n",
       "Humidity       0\n",
       "Rainfall       0\n",
       "pH             0\n",
       "N              0\n",
       "P              0\n",
       "K              0\n",
       "Soil           0\n",
       "Crop           0\n",
       "Fertilizer     0\n",
       "dtype: int64"
      ]
     },
     "execution_count": 6,
     "metadata": {},
     "output_type": "execute_result"
    }
   ],
   "source": [
    "\n",
    "df.isnull().sum()"
   ]
  },
  {
   "cell_type": "code",
   "execution_count": 7,
   "id": "295e3388",
   "metadata": {},
   "outputs": [
    {
     "data": {
      "text/html": [
       "<div>\n",
       "<style scoped>\n",
       "    .dataframe tbody tr th:only-of-type {\n",
       "        vertical-align: middle;\n",
       "    }\n",
       "\n",
       "    .dataframe tbody tr th {\n",
       "        vertical-align: top;\n",
       "    }\n",
       "\n",
       "    .dataframe thead th {\n",
       "        text-align: right;\n",
       "    }\n",
       "</style>\n",
       "<table border=\"1\" class=\"dataframe\">\n",
       "  <thead>\n",
       "    <tr style=\"text-align: right;\">\n",
       "      <th></th>\n",
       "      <th>count</th>\n",
       "      <th>mean</th>\n",
       "      <th>std</th>\n",
       "      <th>min</th>\n",
       "      <th>25%</th>\n",
       "      <th>50%</th>\n",
       "      <th>75%</th>\n",
       "      <th>max</th>\n",
       "    </tr>\n",
       "  </thead>\n",
       "  <tbody>\n",
       "    <tr>\n",
       "      <th>Temperature</th>\n",
       "      <td>200.0</td>\n",
       "      <td>25.55720</td>\n",
       "      <td>2.544626</td>\n",
       "      <td>20.05</td>\n",
       "      <td>23.8200</td>\n",
       "      <td>25.975</td>\n",
       "      <td>27.310</td>\n",
       "      <td>29.87</td>\n",
       "    </tr>\n",
       "    <tr>\n",
       "      <th>Humidity</th>\n",
       "      <td>200.0</td>\n",
       "      <td>88.56315</td>\n",
       "      <td>6.636224</td>\n",
       "      <td>80.12</td>\n",
       "      <td>82.2250</td>\n",
       "      <td>87.495</td>\n",
       "      <td>94.930</td>\n",
       "      <td>99.98</td>\n",
       "    </tr>\n",
       "    <tr>\n",
       "      <th>Rainfall</th>\n",
       "      <td>200.0</td>\n",
       "      <td>206.07385</td>\n",
       "      <td>43.954794</td>\n",
       "      <td>131.09</td>\n",
       "      <td>172.3725</td>\n",
       "      <td>203.435</td>\n",
       "      <td>233.115</td>\n",
       "      <td>298.56</td>\n",
       "    </tr>\n",
       "    <tr>\n",
       "      <th>pH</th>\n",
       "      <td>200.0</td>\n",
       "      <td>6.21130</td>\n",
       "      <td>0.622228</td>\n",
       "      <td>5.01</td>\n",
       "      <td>5.7600</td>\n",
       "      <td>6.125</td>\n",
       "      <td>6.440</td>\n",
       "      <td>7.87</td>\n",
       "    </tr>\n",
       "    <tr>\n",
       "      <th>N</th>\n",
       "      <td>200.0</td>\n",
       "      <td>3.11550</td>\n",
       "      <td>0.910193</td>\n",
       "      <td>2.00</td>\n",
       "      <td>2.2000</td>\n",
       "      <td>2.500</td>\n",
       "      <td>4.000</td>\n",
       "      <td>4.20</td>\n",
       "    </tr>\n",
       "    <tr>\n",
       "      <th>P</th>\n",
       "      <td>200.0</td>\n",
       "      <td>3.13050</td>\n",
       "      <td>0.929213</td>\n",
       "      <td>2.00</td>\n",
       "      <td>2.0750</td>\n",
       "      <td>3.900</td>\n",
       "      <td>4.000</td>\n",
       "      <td>4.00</td>\n",
       "    </tr>\n",
       "    <tr>\n",
       "      <th>K</th>\n",
       "      <td>200.0</td>\n",
       "      <td>2.95600</td>\n",
       "      <td>0.721364</td>\n",
       "      <td>1.90</td>\n",
       "      <td>2.1000</td>\n",
       "      <td>3.000</td>\n",
       "      <td>3.500</td>\n",
       "      <td>4.00</td>\n",
       "    </tr>\n",
       "  </tbody>\n",
       "</table>\n",
       "</div>"
      ],
      "text/plain": [
       "             count       mean        std     min       25%      50%      75%  \\\n",
       "Temperature  200.0   25.55720   2.544626   20.05   23.8200   25.975   27.310   \n",
       "Humidity     200.0   88.56315   6.636224   80.12   82.2250   87.495   94.930   \n",
       "Rainfall     200.0  206.07385  43.954794  131.09  172.3725  203.435  233.115   \n",
       "pH           200.0    6.21130   0.622228    5.01    5.7600    6.125    6.440   \n",
       "N            200.0    3.11550   0.910193    2.00    2.2000    2.500    4.000   \n",
       "P            200.0    3.13050   0.929213    2.00    2.0750    3.900    4.000   \n",
       "K            200.0    2.95600   0.721364    1.90    2.1000    3.000    3.500   \n",
       "\n",
       "                max  \n",
       "Temperature   29.87  \n",
       "Humidity      99.98  \n",
       "Rainfall     298.56  \n",
       "pH             7.87  \n",
       "N              4.20  \n",
       "P              4.00  \n",
       "K              4.00  "
      ]
     },
     "metadata": {},
     "output_type": "display_data"
    }
   ],
   "source": [
    "\n",
    "display(df.describe().T)"
   ]
  },
  {
   "cell_type": "code",
   "execution_count": 8,
   "id": "b963f64a",
   "metadata": {},
   "outputs": [
    {
     "data": {
      "text/html": [
       "<div>\n",
       "<style scoped>\n",
       "    .dataframe tbody tr th:only-of-type {\n",
       "        vertical-align: middle;\n",
       "    }\n",
       "\n",
       "    .dataframe tbody tr th {\n",
       "        vertical-align: top;\n",
       "    }\n",
       "\n",
       "    .dataframe thead th {\n",
       "        text-align: right;\n",
       "    }\n",
       "</style>\n",
       "<table border=\"1\" class=\"dataframe\">\n",
       "  <thead>\n",
       "    <tr style=\"text-align: right;\">\n",
       "      <th></th>\n",
       "      <th>Soil</th>\n",
       "      <th>Crop</th>\n",
       "      <th>Fertilizer</th>\n",
       "    </tr>\n",
       "  </thead>\n",
       "  <tbody>\n",
       "    <tr>\n",
       "      <th>count</th>\n",
       "      <td>200</td>\n",
       "      <td>200</td>\n",
       "      <td>200</td>\n",
       "    </tr>\n",
       "    <tr>\n",
       "      <th>unique</th>\n",
       "      <td>7</td>\n",
       "      <td>2</td>\n",
       "      <td>7</td>\n",
       "    </tr>\n",
       "    <tr>\n",
       "      <th>top</th>\n",
       "      <td>silty clay</td>\n",
       "      <td>rice</td>\n",
       "      <td>Urea and MOP</td>\n",
       "    </tr>\n",
       "    <tr>\n",
       "      <th>freq</th>\n",
       "      <td>42</td>\n",
       "      <td>100</td>\n",
       "      <td>42</td>\n",
       "    </tr>\n",
       "  </tbody>\n",
       "</table>\n",
       "</div>"
      ],
      "text/plain": [
       "              Soil  Crop    Fertilizer\n",
       "count          200   200           200\n",
       "unique           7     2             7\n",
       "top     silty clay  rice  Urea and MOP\n",
       "freq            42   100            42"
      ]
     },
     "metadata": {},
     "output_type": "display_data"
    }
   ],
   "source": [
    "\n",
    "display(df.describe(include='object'))"
   ]
  },
  {
   "cell_type": "code",
   "execution_count": 11,
   "id": "0c2fceab",
   "metadata": {},
   "outputs": [
    {
     "ename": "ContextualVersionConflict",
     "evalue": "(psutil 5.9.0 (c:\\programdata\\anaconda3\\lib\\site-packages), Requirement.parse('psutil>=5.9.1'), {'dython'})",
     "output_type": "error",
     "traceback": [
      "\u001b[1;31m---------------------------------------------------------------------------\u001b[0m",
      "\u001b[1;31mContextualVersionConflict\u001b[0m                 Traceback (most recent call last)",
      "Cell \u001b[1;32mIn[11], line 5\u001b[0m\n\u001b[0;32m      1\u001b[0m \u001b[38;5;28;01mimport\u001b[39;00m \u001b[38;5;21;01mmatplotlib\u001b[39;00m\u001b[38;5;21;01m.\u001b[39;00m\u001b[38;5;21;01mpyplot\u001b[39;00m \u001b[38;5;28;01mas\u001b[39;00m \u001b[38;5;21;01mplt\u001b[39;00m\n\u001b[0;32m      3\u001b[0m \u001b[38;5;28;01mimport\u001b[39;00m \u001b[38;5;21;01mseaborn\u001b[39;00m \u001b[38;5;28;01mas\u001b[39;00m \u001b[38;5;21;01msns\u001b[39;00m \n\u001b[1;32m----> 5\u001b[0m \u001b[38;5;28;01mfrom\u001b[39;00m \u001b[38;5;21;01mdython\u001b[39;00m \u001b[38;5;28;01mimport\u001b[39;00m nominal\n",
      "File \u001b[1;32m~\\AppData\\Roaming\\Python\\Python310\\site-packages\\dython\\__init__.py:12\u001b[0m\n\u001b[0;32m      8\u001b[0m     \u001b[38;5;28;01mreturn\u001b[39;00m get_distribution(\u001b[38;5;124m\"\u001b[39m\u001b[38;5;124mdython\u001b[39m\u001b[38;5;124m\"\u001b[39m)\u001b[38;5;241m.\u001b[39mversion\n\u001b[0;32m     11\u001b[0m __all__ \u001b[38;5;241m=\u001b[39m [\u001b[38;5;124m\"\u001b[39m\u001b[38;5;124m__version__\u001b[39m\u001b[38;5;124m\"\u001b[39m]\n\u001b[1;32m---> 12\u001b[0m __version__ \u001b[38;5;241m=\u001b[39m \u001b[43m_get_version_from_setuptools\u001b[49m\u001b[43m(\u001b[49m\u001b[43m)\u001b[49m\n\u001b[0;32m     13\u001b[0m set_is_jupyter()\n",
      "File \u001b[1;32m~\\AppData\\Roaming\\Python\\Python310\\site-packages\\dython\\__init__.py:8\u001b[0m, in \u001b[0;36m_get_version_from_setuptools\u001b[1;34m()\u001b[0m\n\u001b[0;32m      5\u001b[0m \u001b[38;5;28;01mdef\u001b[39;00m \u001b[38;5;21m_get_version_from_setuptools\u001b[39m():\n\u001b[0;32m      6\u001b[0m     \u001b[38;5;28;01mfrom\u001b[39;00m \u001b[38;5;21;01mpkg_resources\u001b[39;00m \u001b[38;5;28;01mimport\u001b[39;00m get_distribution\n\u001b[1;32m----> 8\u001b[0m     \u001b[38;5;28;01mreturn\u001b[39;00m \u001b[43mget_distribution\u001b[49m\u001b[43m(\u001b[49m\u001b[38;5;124;43m\"\u001b[39;49m\u001b[38;5;124;43mdython\u001b[39;49m\u001b[38;5;124;43m\"\u001b[39;49m\u001b[43m)\u001b[49m\u001b[38;5;241m.\u001b[39mversion\n",
      "File \u001b[1;32mC:\\ProgramData\\anaconda3\\lib\\site-packages\\pkg_resources\\__init__.py:478\u001b[0m, in \u001b[0;36mget_distribution\u001b[1;34m(dist)\u001b[0m\n\u001b[0;32m    476\u001b[0m     dist \u001b[38;5;241m=\u001b[39m Requirement\u001b[38;5;241m.\u001b[39mparse(dist)\n\u001b[0;32m    477\u001b[0m \u001b[38;5;28;01mif\u001b[39;00m \u001b[38;5;28misinstance\u001b[39m(dist, Requirement):\n\u001b[1;32m--> 478\u001b[0m     dist \u001b[38;5;241m=\u001b[39m \u001b[43mget_provider\u001b[49m\u001b[43m(\u001b[49m\u001b[43mdist\u001b[49m\u001b[43m)\u001b[49m\n\u001b[0;32m    479\u001b[0m \u001b[38;5;28;01mif\u001b[39;00m \u001b[38;5;129;01mnot\u001b[39;00m \u001b[38;5;28misinstance\u001b[39m(dist, Distribution):\n\u001b[0;32m    480\u001b[0m     \u001b[38;5;28;01mraise\u001b[39;00m \u001b[38;5;167;01mTypeError\u001b[39;00m(\u001b[38;5;124m\"\u001b[39m\u001b[38;5;124mExpected string, Requirement, or Distribution\u001b[39m\u001b[38;5;124m\"\u001b[39m, dist)\n",
      "File \u001b[1;32mC:\\ProgramData\\anaconda3\\lib\\site-packages\\pkg_resources\\__init__.py:354\u001b[0m, in \u001b[0;36mget_provider\u001b[1;34m(moduleOrReq)\u001b[0m\n\u001b[0;32m    352\u001b[0m \u001b[38;5;250m\u001b[39m\u001b[38;5;124;03m\"\"\"Return an IResourceProvider for the named module or requirement\"\"\"\u001b[39;00m\n\u001b[0;32m    353\u001b[0m \u001b[38;5;28;01mif\u001b[39;00m \u001b[38;5;28misinstance\u001b[39m(moduleOrReq, Requirement):\n\u001b[1;32m--> 354\u001b[0m     \u001b[38;5;28;01mreturn\u001b[39;00m working_set\u001b[38;5;241m.\u001b[39mfind(moduleOrReq) \u001b[38;5;129;01mor\u001b[39;00m \u001b[43mrequire\u001b[49m\u001b[43m(\u001b[49m\u001b[38;5;28;43mstr\u001b[39;49m\u001b[43m(\u001b[49m\u001b[43mmoduleOrReq\u001b[49m\u001b[43m)\u001b[49m\u001b[43m)\u001b[49m[\u001b[38;5;241m0\u001b[39m]\n\u001b[0;32m    355\u001b[0m \u001b[38;5;28;01mtry\u001b[39;00m:\n\u001b[0;32m    356\u001b[0m     module \u001b[38;5;241m=\u001b[39m sys\u001b[38;5;241m.\u001b[39mmodules[moduleOrReq]\n",
      "File \u001b[1;32mC:\\ProgramData\\anaconda3\\lib\\site-packages\\pkg_resources\\__init__.py:909\u001b[0m, in \u001b[0;36mWorkingSet.require\u001b[1;34m(self, *requirements)\u001b[0m\n\u001b[0;32m    900\u001b[0m \u001b[38;5;28;01mdef\u001b[39;00m \u001b[38;5;21mrequire\u001b[39m(\u001b[38;5;28mself\u001b[39m, \u001b[38;5;241m*\u001b[39mrequirements):\n\u001b[0;32m    901\u001b[0m \u001b[38;5;250m    \u001b[39m\u001b[38;5;124;03m\"\"\"Ensure that distributions matching `requirements` are activated\u001b[39;00m\n\u001b[0;32m    902\u001b[0m \n\u001b[0;32m    903\u001b[0m \u001b[38;5;124;03m    `requirements` must be a string or a (possibly-nested) sequence\u001b[39;00m\n\u001b[1;32m   (...)\u001b[0m\n\u001b[0;32m    907\u001b[0m \u001b[38;5;124;03m    included, even if they were already activated in this working set.\u001b[39;00m\n\u001b[0;32m    908\u001b[0m \u001b[38;5;124;03m    \"\"\"\u001b[39;00m\n\u001b[1;32m--> 909\u001b[0m     needed \u001b[38;5;241m=\u001b[39m \u001b[38;5;28;43mself\u001b[39;49m\u001b[38;5;241;43m.\u001b[39;49m\u001b[43mresolve\u001b[49m\u001b[43m(\u001b[49m\u001b[43mparse_requirements\u001b[49m\u001b[43m(\u001b[49m\u001b[43mrequirements\u001b[49m\u001b[43m)\u001b[49m\u001b[43m)\u001b[49m\n\u001b[0;32m    911\u001b[0m     \u001b[38;5;28;01mfor\u001b[39;00m dist \u001b[38;5;129;01min\u001b[39;00m needed:\n\u001b[0;32m    912\u001b[0m         \u001b[38;5;28mself\u001b[39m\u001b[38;5;241m.\u001b[39madd(dist)\n",
      "File \u001b[1;32mC:\\ProgramData\\anaconda3\\lib\\site-packages\\pkg_resources\\__init__.py:800\u001b[0m, in \u001b[0;36mWorkingSet.resolve\u001b[1;34m(self, requirements, env, installer, replace_conflicting, extras)\u001b[0m\n\u001b[0;32m    797\u001b[0m \u001b[38;5;28;01mif\u001b[39;00m dist \u001b[38;5;129;01mnot\u001b[39;00m \u001b[38;5;129;01min\u001b[39;00m req:\n\u001b[0;32m    798\u001b[0m     \u001b[38;5;66;03m# Oops, the \"best\" so far conflicts with a dependency\u001b[39;00m\n\u001b[0;32m    799\u001b[0m     dependent_req \u001b[38;5;241m=\u001b[39m required_by[req]\n\u001b[1;32m--> 800\u001b[0m     \u001b[38;5;28;01mraise\u001b[39;00m VersionConflict(dist, req)\u001b[38;5;241m.\u001b[39mwith_context(dependent_req)\n\u001b[0;32m    802\u001b[0m \u001b[38;5;66;03m# push the new requirements onto the stack\u001b[39;00m\n\u001b[0;32m    803\u001b[0m new_requirements \u001b[38;5;241m=\u001b[39m dist\u001b[38;5;241m.\u001b[39mrequires(req\u001b[38;5;241m.\u001b[39mextras)[::\u001b[38;5;241m-\u001b[39m\u001b[38;5;241m1\u001b[39m]\n",
      "\u001b[1;31mContextualVersionConflict\u001b[0m: (psutil 5.9.0 (c:\\programdata\\anaconda3\\lib\\site-packages), Requirement.parse('psutil>=5.9.1'), {'dython'})"
     ]
    }
   ],
   "source": [
    "import matplotlib.pyplot as plt\n",
    "\n",
    "import seaborn as sns \n",
    "\n",
    "from dython import nominal"
   ]
  },
  {
   "cell_type": "code",
   "execution_count": null,
   "id": "07e1f3da",
   "metadata": {},
   "outputs": [],
   "source": []
  },
  {
   "cell_type": "code",
   "execution_count": null,
   "id": "9f159fc7",
   "metadata": {},
   "outputs": [],
   "source": [
    "\n",
    "print(\"There are seven class in Fertilizer: \", df['Fertilizer'].unique())"
   ]
  },
  {
   "cell_type": "code",
   "execution_count": null,
   "id": "b618eb8c",
   "metadata": {},
   "outputs": [],
   "source": [
    "\n",
    "sns.countplot(y='Fertilizer',data=df,palette=\"plasma_r\")"
   ]
  },
  {
   "cell_type": "code",
   "execution_count": null,
   "id": "7417d9c4",
   "metadata": {},
   "outputs": [],
   "source": [
    "\n",
    "def plot_conti(x):\n",
    "    fig, axes = plt.subplots(nrows=1,ncols=3,figsize=(20,6),tight_layout=True)\n",
    "    axes[0].set_title('Distogram')\n",
    "    sns.distplot(x,ax=axes[0])\n",
    "    axes[1].set_title('Checking Outliers')\n",
    "    sns.boxplot(x,ax=axes[1])\n",
    "    axes[2].set_title('Relation with target variable')\n",
    "    sns.boxplot(y = x,x = df['Fertilizer'])"
   ]
  },
  {
   "cell_type": "code",
   "execution_count": null,
   "id": "c09edeb5",
   "metadata": {},
   "outputs": [],
   "source": [
    "\n",
    "plot_conti(df['Temperature'])"
   ]
  },
  {
   "cell_type": "code",
   "execution_count": null,
   "id": "7ca3cab9",
   "metadata": {},
   "outputs": [],
   "source": [
    "\n",
    "plot_conti(df['Humidity'])"
   ]
  },
  {
   "cell_type": "code",
   "execution_count": null,
   "id": "5ec71477",
   "metadata": {},
   "outputs": [],
   "source": [
    "\n",
    "plot_conti(df['Rainfall'])"
   ]
  },
  {
   "cell_type": "code",
   "execution_count": null,
   "id": "ad833393",
   "metadata": {},
   "outputs": [],
   "source": [
    "\n",
    "plot_conti(df['pH'])"
   ]
  },
  {
   "cell_type": "code",
   "execution_count": null,
   "id": "afbc1592",
   "metadata": {},
   "outputs": [],
   "source": [
    "\n",
    "plot_conti(df['N'])"
   ]
  },
  {
   "cell_type": "code",
   "execution_count": null,
   "id": "9810123d",
   "metadata": {},
   "outputs": [],
   "source": [
    "\n",
    "plot_conti(df['P'])"
   ]
  },
  {
   "cell_type": "code",
   "execution_count": null,
   "id": "cf5215df",
   "metadata": {},
   "outputs": [],
   "source": [
    "\n",
    "plot_conti(df['K'])"
   ]
  },
  {
   "cell_type": "code",
   "execution_count": null,
   "id": "c5aa76c1",
   "metadata": {},
   "outputs": [],
   "source": [
    "\n",
    "def plot_cato(x):\n",
    "    fig, axes = plt.subplots(nrows=1,ncols=2,figsize=(20,6),tight_layout=True)\n",
    "    axes[0].set_title('Count Plot')\n",
    "    sns.countplot(x=x,ax=axes[0])\n",
    "    axes[1].set_title('Relation with output variable')\n",
    "    sns.countplot(x = x,hue = df['Fertilizer'], ax=axes[1])"
   ]
  },
  {
   "cell_type": "code",
   "execution_count": null,
   "id": "52c8b29b",
   "metadata": {},
   "outputs": [],
   "source": [
    "\n",
    "print(\"Soil : \", df['Soil'].unique())"
   ]
  },
  {
   "cell_type": "code",
   "execution_count": null,
   "id": "62605bdc",
   "metadata": {},
   "outputs": [],
   "source": [
    "\n",
    "plot_cato(df['Soil'])"
   ]
  },
  {
   "cell_type": "code",
   "execution_count": null,
   "id": "e162f8ee",
   "metadata": {},
   "outputs": [],
   "source": [
    "\n",
    "print(\"Crop: \", df['Crop'].unique())"
   ]
  },
  {
   "cell_type": "code",
   "execution_count": null,
   "id": "67ea2bf4",
   "metadata": {},
   "outputs": [],
   "source": [
    "plot_cato(df['Crop'])"
   ]
  },
  {
   "cell_type": "code",
   "execution_count": null,
   "id": "274a71a1",
   "metadata": {},
   "outputs": [],
   "source": [
    "nominal.associations(df,figsize=(16,10),\n",
    "                     mark_columns=True,\n",
    "                     title=\"Pearson Correlation Coefficient between fertilizer prediction variables\",\n",
    "                     cmap='RdYlGn')"
   ]
  },
  {
   "cell_type": "code",
   "execution_count": null,
   "id": "3e2ba611",
   "metadata": {},
   "outputs": [],
   "source": [
    "from sklearn.preprocessing import MinMaxScaler \n",
    "from sklearn.preprocessing import LabelEncoder \n",
    "from sklearn.model_selection import train_test_split "
   ]
  },
  {
   "cell_type": "code",
   "execution_count": null,
   "id": "1c3bf714",
   "metadata": {},
   "outputs": [],
   "source": [
    " le = LabelEncoder()\n",
    "df['Fertilizer']= le.fit_transform(df['Fertilizer'])\n",
    "df['Soil']= le.fit_transform(df['Soil'])\n",
    "df['Crop']= le.fit_transform(df['Crop'])"
   ]
  },
  {
   "cell_type": "code",
   "execution_count": null,
   "id": "f75aa05b",
   "metadata": {},
   "outputs": [],
   "source": [
    "X = df.drop(['Crop','Fertilizer'], axis=1)  \n",
    "y = df[['Fertilizer']]  \n",
    "y2=df[['Crop']]\n",
    "\n",
    "print('The shape of feature set, X is', X.shape)\n",
    "print('The shape of target, y is', y.shape)\n",
    "print('The shape of 2nd target, y2 is', y2.shape)\n"
   ]
  },
  {
   "cell_type": "code",
   "execution_count": null,
   "id": "a4f40be2",
   "metadata": {},
   "outputs": [],
   "source": [
    "display(df.head())"
   ]
  },
  {
   "cell_type": "code",
   "execution_count": null,
   "id": "3c4b6dc3",
   "metadata": {},
   "outputs": [],
   "source": [
    "scaler = MinMaxScaler()\n",
    "for col in X.columns:\n",
    "    X[col] = scaler.fit_transform(X[[col]])\n",
    "\n",
    "display(X.sample(10))"
   ]
  },
  {
   "cell_type": "code",
   "execution_count": null,
   "id": "4c1b4ba8",
   "metadata": {},
   "outputs": [],
   "source": [
    "\n",
    "X_train, X_test, y_train, y_test = train_test_split(X, \n",
    "                                                    y, \n",
    "                                                    test_size=0.3, \n",
    "                                                    random_state=42, \n",
    "                                                    stratify=y)\n",
    "\n",
    "\n",
    "\n",
    "print('Shape of X_train is', X_train.shape)\n",
    "print('Shape of X_test is', X_test.shape)\n",
    "print('Shape of y_train is', y_train.shape)\n",
    "print('Shape of y_test is',  y_test.shape)\n"
   ]
  },
  {
   "cell_type": "code",
   "execution_count": null,
   "id": "8cf8287f",
   "metadata": {},
   "outputs": [],
   "source": [
    "\n",
    "from sklearn.neighbors import KNeighborsClassifier \n",
    "from sklearn.ensemble import GradientBoostingClassifier \n",
    "from sklearn.ensemble import RandomForestClassifier \n",
    "from sklearn.tree import DecisionTreeClassifier \n",
    "from sklearn.tree import plot_tree \n",
    "from sklearn.model_selection import GridSearchCV \n",
    "\n",
    "from sklearn.metrics import accuracy_score, classification_report \n",
    "from sklearn.metrics import classification_report \n",
    "from sklearn.metrics import ConfusionMatrixDisplay\n",
    "import matplotlib.cm as cm\n",
    "from sklearn.metrics import confusion_matrix"
   ]
  },
  {
   "cell_type": "code",
   "execution_count": null,
   "id": "542eb566",
   "metadata": {},
   "outputs": [],
   "source": [
    "neighbors = np.arange(1,14)\n",
    "train_accuracy = np.empty(len(neighbors))\n",
    "test_accuracy = np.empty(len(neighbors))\n",
    "\n",
    "for i,k in enumerate(neighbors):\n",
    "        knn = KNeighborsClassifier(n_neighbors=k)\n",
    "        knn.fit(X_train, y_train)\n",
    "        train_accuracy[i] = knn.score(X_train, y_train)\n",
    "        test_accuracy[i] = knn.score(X_test, y_test)\n",
    "plt.title('K-NN Varying number of neighbors')\n",
    "plt.plot(neighbors, train_accuracy, label='Training accuracy')\n",
    "plt.plot(neighbors, test_accuracy, label='Testing Accuracy')\n",
    "plt.legend()\n",
    "plt.xlabel('Number of neighbors')\n",
    "plt.ylabel('Accuracy')\n",
    "plt.show()"
   ]
  },
  {
   "cell_type": "code",
   "execution_count": null,
   "id": "8cc9f286",
   "metadata": {},
   "outputs": [],
   "source": [
    "model_knn = KNeighborsClassifier(n_neighbors=3)\n",
    "\n",
    "model_knn = model_knn.fit(X_train, y_train)"
   ]
  },
  {
   "cell_type": "code",
   "execution_count": null,
   "id": "a33ee714",
   "metadata": {},
   "outputs": [],
   "source": [
    "y_pred_knn = model_knn.predict(X_test)"
   ]
  },
  {
   "cell_type": "code",
   "execution_count": null,
   "id": "540062e5",
   "metadata": {},
   "outputs": [],
   "source": [
    "print('Accuracy of K-Nearest Neighbor Model: ', accuracy_score(y_test, y_pred_knn))"
   ]
  },
  {
   "cell_type": "code",
   "execution_count": null,
   "id": "220d7099",
   "metadata": {},
   "outputs": [],
   "source": [
    "X2_train, X2_test, y2_train, y2_test = train_test_split(X, \n",
    "                                                    y2, \n",
    "                                                    test_size=0.3, \n",
    "                                                    random_state=42, \n",
    "                                                    stratify=y2)"
   ]
  },
  {
   "cell_type": "code",
   "execution_count": null,
   "id": "21a519a0",
   "metadata": {},
   "outputs": [],
   "source": [
    "print('Shape of X_train is', X2_train.shape)\n",
    "print('Shape of X_test is', X2_test.shape)\n",
    "print('Shape of y_train is', y2_train.shape)\n",
    "print('Shape of y_test is',  y2_test.shape)"
   ]
  },
  {
   "cell_type": "code",
   "execution_count": null,
   "id": "085d86a9",
   "metadata": {},
   "outputs": [],
   "source": [
    "model2_knn=model_knn.fit(X2_train,y2_train)\n",
    "y2_pred_knn=model2_knn.predict(X2_test)\n",
    "\n",
    "print('Accuracy of K-Nearest Neighbor Model: ', accuracy_score(y2_test, y2_pred_knn))"
   ]
  },
  {
   "cell_type": "code",
   "execution_count": null,
   "id": "d757ed34-3e88-43f3-b674-94ab61822a6b",
   "metadata": {},
   "outputs": [],
   "source": [
    "abcd=ConfusionMatrixDisplay(confusion_matrix(y_test,y_pred_knn), \n",
    "                      display_labels=['DAP and MOP','Good NPK','MOP','Urea and DAP','Urea and MOP','Urea','DAP'],\n",
    "                      \n",
    "                      )\n",
    "abcd.cmap = cm.Blues\n",
    "abcd.plot()\n",
    "plt.xticks(rotation=45)\n",
    "plt.show()"
   ]
  },
  {
   "cell_type": "code",
   "execution_count": null,
   "id": "e8c75c9d",
   "metadata": {},
   "outputs": [],
   "source": [
    "\n",
    "print(classification_report(y_test,y_pred_knn))"
   ]
  },
  {
   "cell_type": "code",
   "execution_count": null,
   "id": "2f241d53",
   "metadata": {},
   "outputs": [],
   "source": [
    "\n",
    "model_DT = DecisionTreeClassifier(random_state=42)\n",
    "model_DT = model_DT.fit(X_train, y_train)\n",
    "y_pred_DT = model_DT.predict(X_test)"
   ]
  },
  {
   "cell_type": "code",
   "execution_count": null,
   "id": "7feb64e0",
   "metadata": {},
   "outputs": [],
   "source": [
    "\n",
    "import matplotlib.cm as cm\n",
    "from sklearn.metrics import confusion_matrix\n",
    "disp=ConfusionMatrixDisplay(confusion_matrix(y_test, y_pred_DT),\n",
    "                      display_labels=['DAP and MOP','Good NPK','MOP','Urea and DAP','Urea and MOP','Urea','DAP'],\n",
    "                      \n",
    "                      \n",
    "                      )\n",
    "disp.cmap = cm.Blues\n",
    "disp.plot()\n",
    "plt.xticks(rotation=45)\n",
    "plt.show()"
   ]
  },
  {
   "cell_type": "code",
   "execution_count": null,
   "id": "db31633e",
   "metadata": {},
   "outputs": [],
   "source": [
    "\n",
    "print('Accuracy: ', accuracy_score(y_test, y_pred_DT))\n",
    "\n",
    "print(classification_report(y_test, y_pred_DT))"
   ]
  },
  {
   "cell_type": "code",
   "execution_count": null,
   "id": "648d37a6",
   "metadata": {},
   "outputs": [],
   "source": [
    "\n",
    "plt.figure(figsize = (20, 20))\n",
    "plot_tree(model_DT, \n",
    "        filled=True,\n",
    "        rounded=True,\n",
    "        class_names = ['Good NPK', 'Urea and MOP','Urea and DAP', 'DAP','Urea', 'DAP and MOP', 'MOP'],\n",
    "        feature_names = list(X.columns),\n",
    "        fontsize=12)\n",
    "\n",
    "plt.show()"
   ]
  },
  {
   "cell_type": "code",
   "execution_count": null,
   "id": "a3ddffc8",
   "metadata": {},
   "outputs": [],
   "source": [
    "parameters = {'criterion': ['gini','entropy'],\n",
    "              'max_depth': [3, 4, 5, 6, 7]}\n",
    "\n",
    "grid_search_DT = GridSearchCV(estimator=model_DT,\n",
    "                           param_grid=parameters,\n",
    "                           scoring=\"accuracy\",\n",
    "                           cv=5,\n",
    "                           n_jobs=-1)"
   ]
  },
  {
   "cell_type": "code",
   "execution_count": null,
   "id": "b4403b44",
   "metadata": {},
   "outputs": [],
   "source": [
    "\n",
    "grid_result_DT = grid_search_DT.fit(X_train, y_train)"
   ]
  },
  {
   "cell_type": "code",
   "execution_count": null,
   "id": "fd54360f",
   "metadata": {},
   "outputs": [],
   "source": [
    "\n",
    "grid_result_DT.best_params_"
   ]
  },
  {
   "cell_type": "code",
   "execution_count": null,
   "id": "71a8f895",
   "metadata": {},
   "outputs": [],
   "source": [
    "cv_result = pd.DataFrame(grid_result_DT.cv_results_)\n",
    "cv_result = cv_result[['param_criterion', 'param_max_depth',\n",
    "                       'split0_test_score',\n",
    "                       'split1_test_score', 'split2_test_score', 'split3_test_score',\n",
    "                       'split4_test_score', 'mean_test_score', 'std_test_score',\n",
    "                       'rank_test_score']]\n",
    "cv_result = cv_result.sort_values(by='rank_test_score')\n",
    "display(cv_result)\n",
    "print(cv_result.columns)"
   ]
  },
  {
   "cell_type": "code",
   "execution_count": null,
   "id": "ea8c1022",
   "metadata": {},
   "outputs": [],
   "source": [
    "y_pred_Grid = grid_result_DT.predict(X_test)"
   ]
  },
  {
   "cell_type": "code",
   "execution_count": null,
   "id": "6826026b",
   "metadata": {},
   "outputs": [],
   "source": [
    "print('Accuracy: ', accuracy_score(y_test, y_pred_Grid))\n",
    "print(classification_report(y_test, y_pred_Grid))"
   ]
  },
  {
   "cell_type": "code",
   "execution_count": null,
   "id": "c6499f26-67fa-40a2-8f9f-5a1ab7121faf",
   "metadata": {},
   "outputs": [],
   "source": [
    "\n",
    "model_RF = RandomForestClassifier(random_state=42)\n",
    "model_RF = model_RF.fit(X_train, y_train)\n",
    "y_pred_RF = model_RF.predict(X_test)"
   ]
  },
  {
   "cell_type": "code",
   "execution_count": null,
   "id": "511475dc",
   "metadata": {},
   "outputs": [],
   "source": [
    "xy=ConfusionMatrixDisplay(confusion_matrix(y_test,y_pred_RF),\n",
    "                      display_labels=['DAP and MOP','Good NPK','MOP','Urea and DAP','Urea and MOP','Urea','DAP']\n",
    "                      )\n",
    "xy.cmap = cm.Blues\n",
    "xy.plot()\n",
    "plt.xticks(rotation=45)\n",
    "plt.show()"
   ]
  },
  {
   "cell_type": "code",
   "execution_count": null,
   "id": "fc2e944e",
   "metadata": {},
   "outputs": [],
   "source": [
    "\n",
    "print('Accuracy: ', accuracy_score(y_test, y_pred_RF))\n",
    "print(classification_report(y_test, y_pred_RF))"
   ]
  },
  {
   "cell_type": "code",
   "execution_count": null,
   "id": "604f8528",
   "metadata": {},
   "outputs": [],
   "source": [
    "model2_RF = RandomForestClassifier(random_state=42)\n",
    "\n",
    "\n",
    "model2_RF = model2_RF.fit(X2_train, y2_train)\n",
    "\n",
    "y2_pred_RF = model2_RF.predict(X2_test)"
   ]
  },
  {
   "cell_type": "code",
   "execution_count": null,
   "id": "578c0e29",
   "metadata": {},
   "outputs": [],
   "source": [
    "print('Accuracy: ', accuracy_score(y2_test, y2_pred_RF))\n",
    "\n",
    "\n",
    "print(classification_report(y2_test, y2_pred_RF))"
   ]
  },
  {
   "cell_type": "code",
   "execution_count": null,
   "id": "96a44dec",
   "metadata": {},
   "outputs": [],
   "source": [
    "\n",
    "model_GB = GradientBoostingClassifier()\n",
    "\n",
    "\n",
    "model_GB = model_GB.fit(X_train, y_train)"
   ]
  },
  {
   "cell_type": "code",
   "execution_count": null,
   "id": "5210dc50",
   "metadata": {},
   "outputs": [],
   "source": [
    "\n",
    "y_pred_GB = model_GB.predict(X_test)"
   ]
  },
  {
   "cell_type": "code",
   "execution_count": null,
   "id": "91415352",
   "metadata": {},
   "outputs": [],
   "source": [
    "\n",
    "yz=ConfusionMatrixDisplay(confusion_matrix(y_test,y_pred_GB),\n",
    "                      display_labels=['DAP and MOP','Good NPK','MOP','Urea and DAP','Urea and MOP','Urea','DAP'],\n",
    "                      )\n",
    "yz.cmap = cm.Blues\n",
    "\n",
    "\n",
    "yz.plot()\n",
    "\n",
    "\n",
    "plt.xticks(rotation=45)\n",
    "plt.show()\n"
   ]
  },
  {
   "cell_type": "code",
   "execution_count": null,
   "id": "be3a7b37",
   "metadata": {},
   "outputs": [],
   "source": [
    "\n",
    "print('Accuracy: ', accuracy_score(y_test, y_pred_GB))\n",
    "\n",
    "\n",
    "print(classification_report(y_test, y_pred_GB))"
   ]
  },
  {
   "cell_type": "code",
   "execution_count": null,
   "id": "3eba4d60",
   "metadata": {},
   "outputs": [],
   "source": [
    "model2_GB = GradientBoostingClassifier()\n",
    "\n",
    "\n",
    "model2_GB = model2_GB.fit(X2_train, y2_train)"
   ]
  },
  {
   "cell_type": "code",
   "execution_count": null,
   "id": "629a5a4e",
   "metadata": {},
   "outputs": [],
   "source": [
    "y2_pred_GB = model2_GB.predict(X2_test)\n"
   ]
  },
  {
   "cell_type": "code",
   "execution_count": null,
   "id": "fa39eae2",
   "metadata": {},
   "outputs": [],
   "source": [
    "print('Accuracy: ', accuracy_score(y2_test, y2_pred_GB))\n",
    "\n",
    "\n",
    "print(classification_report(y2_test, y2_pred_GB))"
   ]
  },
  {
   "cell_type": "code",
   "execution_count": null,
   "id": "27745f7d",
   "metadata": {},
   "outputs": [],
   "source": [
    "print(\"Model\\t\\t\\tAccuracy of the model\") \n",
    "print(\"\"\"K-Nearest Neighbors\\t\\t {:.4f}\"\"\".format( accuracy_score(y_test, y_pred_knn)))\n",
    "print(\"\"\"Decision Tree\\t\\t\\t {:.4f}\"\"\".format(accuracy_score(y_test, y_pred_DT)))\n",
    "print(\"\"\"Random Forest\\t\\t\\t {:.4f}\"\"\".format(accuracy_score(y_test, y_pred_RF)))\n",
    "print(\"\"\"Gradient Boosting\\t\\t {:.4f}\"\"\".format( accuracy_score(y_test, y_pred_GB)))"
   ]
  },
  {
   "cell_type": "code",
   "execution_count": null,
   "id": "2b5eaf7d-0eb7-49e8-8fc4-24ca09db9145",
   "metadata": {},
   "outputs": [],
   "source": [
    "df # Displaying dataset again"
   ]
  },
  {
   "cell_type": "code",
   "execution_count": null,
   "id": "062ad009",
   "metadata": {},
   "outputs": [],
   "source": [
    "import pandas as pd\n",
    "from sklearn.cluster import KMeans\n",
    "\n",
    "data = pd.read_csv('Fertilizer_Prediction.csv') \n",
    "le = LabelEncoder()\n",
    "\n",
    "data['Soil']= le.fit_transform(df['Soil'])\n",
    "\n",
    "X = data[['Temperature', 'Humidity', 'Rainfall', 'pH', 'N', 'P', 'K','Soil']]\n",
    "\n",
    "\n",
    "num_clusters = 3\n",
    "\n",
    "\n",
    "kmeans = KMeans(n_clusters=num_clusters, random_state=42)\n",
    "kmeans.fit(X)\n",
    "\n",
    "\n",
    "labels = kmeans.labels_\n",
    "\n",
    "\n",
    "data['Cluster'] = labels\n",
    "\n",
    "\n",
    "print(data['Cluster'].value_counts())"
   ]
  },
  {
   "cell_type": "code",
   "execution_count": null,
   "id": "be54af34",
   "metadata": {},
   "outputs": [],
   "source": [
    "fertiiiii={0:\"DAP,Urea and Good NPK\",1:\"DAP and MOP\",2:\"Good(60%) NPK\",3:\"Urea and MOP\",4:\"Urea and DAP\",5:\"MOP\",6:\"Urea\",7:\"DAP\"}\n",
    "cropppp={0:\"Coconut\",1:\"Rice\"}\n",
    "fertili={0:\"Unfertile\",1:\"Fertile\",2:\"Contaminated\"}\n"
   ]
  },
  {
   "cell_type": "code",
   "execution_count": null,
   "id": "1e020cb8",
   "metadata": {},
   "outputs": [],
   "source": [
    "\n",
    "data = np.array([[28.69, 96.65, 178.96, 6.08, 4.0, 4.0, 4.0, 4]])\n",
    "prediction = model_knn.predict(data)\n",
    "pred2=model2_knn.predict(data)\n",
    "predicted_cluster = kmeans.predict(data)\n",
    "#if int(prediction)<3:\n",
    " #   print(\"The soil is unfertile\")\n",
    "#elif int(prediction)<5 and int(prediction)>2:\n",
    " #   print(\"The soil id moderately fertile and free of chemicals\")\n",
    "#else:\n",
    " #   print(\"The soil is contaminated,use reduced quantity of \")\n",
    "print(f\"Suggested fertilizer is {fertiiiii[int(prediction)]}\")\n",
    "print(f\"Suggested crop is {cropppp[int(pred2)]}\\n\\n\")\n",
    "print(\"The soil is :\", fertili[int(predicted_cluster)])\n",
    "if fertili[int(predicted_cluster)]== \"Unfertile\":\n",
    "    print(\"Use 500 gram of \"+fertiiiii[int(prediction)]+ \" per year\")\n",
    "elif fertili[int(predicted_cluster)]== \"Fertile\":\n",
    "    print(\"Use 250 gram of \"+fertiiiii[int(prediction)]+ \" per year\")\n",
    "elif fertili[int(predicted_cluster)]== \"Contaminated\":\n",
    "    print(\"Use less than 75 gram of \"+fertiiiii[int(prediction)]+ \" per year\")"
   ]
  },
  {
   "cell_type": "code",
   "execution_count": null,
   "id": "2a614195",
   "metadata": {},
   "outputs": [],
   "source": [
    "\n",
    "data = np.array([[10000,200,3000,424,546,6346,7633, 1]])\n",
    "prediction = grid_result_DT.predict(data)\n",
    "pred2=model2_GB.predict(data)\n",
    "predicted_cluster = kmeans.predict(data)\n",
    "#if int(prediction)<2:\n",
    " #   print(\"The soil is unfertile\")\n",
    "#elif int(prediction)<5 and int(prediction)>=2:\n",
    " #   print(\"The soil id moderately fertile and free of chemicals\")\n",
    "#else:\n",
    " #  print(\"The soil is contaminated,use reduced quantity of \")\n",
    "print(f\"Suggested fertilizer is: {fertiiiii[int(prediction)]}\")\n",
    "print(f\"Suggested crop is {cropppp[int(pred2)]}\\n\\n\")\n",
    "print(\"The soil is :\", fertili[int(predicted_cluster)])\n",
    "if fertili[int(predicted_cluster)]== \"Unfertile\":\n",
    "    print(\"Use 500 gram of \"+fertiiiii[int(prediction)]+ \" per year\")\n",
    "elif fertili[int(predicted_cluster)]== \"Fertile\":\n",
    "    print(\"Use 250 gram of \"+fertiiiii[int(prediction)]+ \" per year\")\n",
    "elif fertili[int(predicted_cluster)]== \"Contaminated\":\n",
    "    print(\"Use less than 75 gram of \"+fertiiiii[int(prediction)]+ \" per year\")"
   ]
  },
  {
   "cell_type": "code",
   "execution_count": null,
   "id": "0b97fbd6",
   "metadata": {
    "scrolled": true
   },
   "outputs": [],
   "source": [
    "\n",
    "data = np.array([[26.61,96.97,191.01,6.14,4,2,2.5,1.56]])\n",
    "prediction = model_RF.predict(data)\n",
    "pred2=model2_RF.predict(data)\n",
    "predicted_cluster = kmeans.predict(data)\n",
    "#if int(prediction)<3:\n",
    " #   print(\"The soil is unfertile\")\n",
    "#elif int(prediction)<5 and int(prediction)>2:\n",
    " #   print(\"The soil id moderately fertile and free of chemicals\")\n",
    "#else:\n",
    " #   print(\"The soil is contaminated,use reduced quantity of \")\n",
    "print(f\"Suggested fertilizer is {fertiiiii[int(prediction)]}\")\n",
    "print(f\"Suggested crop is {cropppp[int(pred2)]}\\n\\n\")\n",
    "print(\"The soil is :\", fertili[int(predicted_cluster)])\n",
    "if fertili[int(predicted_cluster)]== \"Unfertile\":\n",
    "    print(\"Use 500 gram of \"+fertiiiii[int(prediction)]+ \" per year\")\n",
    "elif fertili[int(predicted_cluster)]== \"Fertile\":\n",
    "    print(\"Use 250 gram of \"+fertiiiii[int(prediction)]+ \" per year\")\n",
    "elif fertili[int(predicted_cluster)]== \"Contaminated\":\n",
    "    print(\"Use less than 75 gram of \"+fertiiiii[int(prediction)]+ \" per year\")"
   ]
  },
  {
   "cell_type": "code",
   "execution_count": null,
   "id": "bc8be26b",
   "metadata": {},
   "outputs": [],
   "source": [
    "\n",
    "data = np.array([[0,0,0,0,0,0,0,0]])\n",
    "prediction = model_GB.predict(data)\n",
    "pred2=model2_GB.predict(data)\n",
    "predicted_cluster = kmeans.predict(data)\n",
    "\n",
    "\n",
    "#if int(prediction)<3:\n",
    " #   print(\"The soil is unfertile\")\n",
    "#elif int(prediction)<5 and int(prediction)>2:\n",
    " #   print(\"The soil id moderately fertile and free of chemicals\")\n",
    "#else:\n",
    " #   print(\"The soil is contaminated,use less fertilizer \")\n",
    "print(f\"suggested fertilizer is: {fertiiiii[int(prediction)]}\")\n",
    "print(f\"Suggested crop is {cropppp[int(pred2)]}\")\n",
    "print()\n",
    "print(\"The soil is :\", fertili[int(predicted_cluster)])\n",
    "if fertili[int(predicted_cluster)]== \"Unfertile\":\n",
    "    print(\"Use 500 gram of \"+fertiiiii[int(prediction)]+ \" per year\")\n",
    "elif fertili[int(predicted_cluster)]== \"Fertile\":\n",
    "    print(\"Use 250 gram of \"+fertiiiii[int(prediction)]+ \" per year\")\n",
    "elif fertili[int(predicted_cluster)]== \"Contaminated\":\n",
    "    print(\"Use less than 75 gram of \"+fertiiiii[int(prediction)]+ \" per year\")\n"
   ]
  }
 ],
 "metadata": {
  "kernelspec": {
   "display_name": "Python 3 (ipykernel)",
   "language": "python",
   "name": "python3"
  },
  "language_info": {
   "codemirror_mode": {
    "name": "ipython",
    "version": 3
   },
   "file_extension": ".py",
   "mimetype": "text/x-python",
   "name": "python",
   "nbconvert_exporter": "python",
   "pygments_lexer": "ipython3",
   "version": "3.10.9"
  }
 },
 "nbformat": 4,
 "nbformat_minor": 5
}
